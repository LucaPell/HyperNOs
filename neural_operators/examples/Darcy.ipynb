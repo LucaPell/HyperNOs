{
 "cells": [
  {
   "cell_type": "code",
   "execution_count": 1,
   "metadata": {},
   "outputs": [
    {
     "name": "stderr",
     "output_type": "stream",
     "text": [
      "/home/luca/.pyenv/versions/3.12.4/envs/hypernos/lib/python3.12/site-packages/tqdm/auto.py:21: TqdmWarning: IProgress not found. Please update jupyter and ipywidgets. See https://ipywidgets.readthedocs.io/en/stable/user_install.html\n",
      "  from .autonotebook import tqdm as notebook_tqdm\n",
      "2025-03-26 07:20:30,257\tINFO util.py:154 -- Missing packages: ['ipywidgets']. Run `pip install -U ipywidgets`, then restart the notebook server for rich notebook output.\n",
      "2025-03-26 07:20:31,025\tINFO util.py:154 -- Missing packages: ['ipywidgets']. Run `pip install -U ipywidgets`, then restart the notebook server for rich notebook output.\n"
     ]
    }
   ],
   "source": [
    "import torch\n",
    "import sys\n",
    "sys.path.append('..')\n",
    "from datasets import Darcy\n",
    "from FNO.FNO import FNO\n",
    "from loss_fun import LprelLoss\n",
    "from ray import tune\n",
    "from tune import tune_hyperparameters\n",
    "from FNO.FNO_utilities import FNO_initialize_hyperparameters"
   ]
  },
  {
   "cell_type": "code",
   "execution_count": 2,
   "metadata": {},
   "outputs": [
    {
     "name": "stdout",
     "output_type": "stream",
     "text": [
      "File default_darcy.json found in ../FNO/configurations/mishra\n"
     ]
    }
   ],
   "source": [
    "#set the device\n",
    "device = torch.device(\"cuda\" if torch.cuda.is_available() else \"cpu\")\n",
    "\n",
    "#define the problem to solve\n",
    "problem = \"darcy\"\n",
    "\n",
    "#load the hyperparameters configuration\n",
    "configuration = \"default\"\n",
    "\n",
    "#define the FNO with the specified hyperparameters\n",
    "hyperparameters_train, hyperparameters_arc  = FNO_initialize_hyperparameters(problem,configuration)\n",
    "\n",
    "#type of loss function\n",
    "loss = \"L2\""
   ]
  }
 ],
 "metadata": {
  "kernelspec": {
   "display_name": "hypernos",
   "language": "python",
   "name": "python3"
  },
  "language_info": {
   "codemirror_mode": {
    "name": "ipython",
    "version": 3
   },
   "file_extension": ".py",
   "mimetype": "text/x-python",
   "name": "python",
   "nbconvert_exporter": "python",
   "pygments_lexer": "ipython3",
   "version": "3.12.4"
  }
 },
 "nbformat": 4,
 "nbformat_minor": 2
}
